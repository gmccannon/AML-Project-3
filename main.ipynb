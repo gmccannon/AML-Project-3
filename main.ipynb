{
 "cells": [
  {
   "cell_type": "code",
   "execution_count": 11,
   "metadata": {},
   "outputs": [
    {
     "name": "stdout",
     "output_type": "stream",
     "text": [
      "Shape of images: (70000, 784)\n",
      "Shape of labels: (70000,)\n"
     ]
    },
    {
     "data": {
      "image/png": "[encoded data removed]",
      "text/plain": [
       "<Figure size 640x480 with 1 Axes>"
      ]
     },
     "metadata": {},
     "output_type": "display_data"
    },
    {
     "name": "stdout",
     "output_type": "stream",
     "text": [
      "Label of the image: 4\n"
     ]
    }
   ],
   "source": [
    "from sklearn.datasets import fetch_openml\n",
    "import matplotlib.pyplot as plt\n",
    "from sklearn.model_selection import train_test_split\n",
    "from sklearn.preprocessing import MinMaxScaler\n",
    "from sklearn.svm import SVC\n",
    "\n",
    "# Load MNIST dataset\n",
    "mnist = fetch_openml('mnist_784')\n",
    "images = mnist['data']\n",
    "labels = mnist['target']\n",
    "\n",
    "# Print the shape of the dataset\n",
    "print(\"Shape of images:\", images.shape)\n",
    "print(\"Shape of labels:\", labels.shape)\n",
    "\n",
    "# Plot the first image\n",
    "first_image = images.iloc[2].values.reshape(28, 28)\n",
    "plt.imshow(first_image, cmap='gray')\n",
    "plt.axis('off')\n",
    "plt.show()\n",
    "\n",
    "# Print the label of the first image\n",
    "print(\"Label of the image:\", labels[2])\n"
   ]
  },
  {
   "cell_type": "code",
   "execution_count": 2,
   "metadata": {},
   "outputs": [
    {
     "name": "stdout",
     "output_type": "stream",
     "text": [
      "Accuracy of SVM classifier: 0.9811071428571428\n"
     ]
    }
   ],
   "source": [
    "# Load MNIST dataset\n",
    "mnist = fetch_openml('mnist_784')\n",
    "images = mnist['data']\n",
    "labels = mnist['target']\n",
    "\n",
    "# Scale pixel values to the range [0, 1]\n",
    "scaler = MinMaxScaler()\n",
    "images_normalized = scaler.fit_transform(images)\n",
    "\n",
    "# Split data into training and testing sets\n",
    "X_train, X_test, y_train, y_test = train_test_split(images_normalized, labels, test_size=0.4, random_state=42)\n",
    "\n",
    "# Train the SVM model\n",
    "svm_classifier = SVC(kernel='rbf', C=10, gamma='scale')\n",
    "svm_classifier.fit(X_train, y_train)\n",
    "\n",
    "# Evaluate the model\n",
    "accuracy = svm_classifier.score(X_test, y_test)\n",
    "print(\"Accuracy of SVM classifier:\", accuracy)\n"
   ]
  },
  {
   "cell_type": "code",
   "execution_count": 75,
   "metadata": {},
   "outputs": [
    {
     "data": {
      "image/png": "[encoded data removed]",
      "text/plain": [
       "<Figure size 640x480 with 1 Axes>"
      ]
     },
     "metadata": {},
     "output_type": "display_data"
    }
   ],
   "source": [
    "# convert an image I drew to test the model with\n",
    "from PIL import Image, ImageOps\n",
    "import numpy as np\n",
    "\n",
    "# Load your handwritten image\n",
    "image = Image.open(\"image.png\").convert(\"L\")  # Convert to grayscale\n",
    "\n",
    "# Resize the image to 28x28 pixels\n",
    "image = image.resize((28, 28))\n",
    "\n",
    "# Invert the pixel values (if necessary)\n",
    "image = ImageOps.invert(image)\n",
    "\n",
    "# Convert the image to a numpy array\n",
    "image_array = np.array(image)\n",
    "\n",
    "# Flatten the image array\n",
    "image_flattened = image_array.flatten()\n",
    "\n",
    "# Scale the pixel values to the range [0, 1]\n",
    "image_scaled = image_flattened / 255.0\n",
    "\n",
    "# Predict the label using the trained SVM model\n",
    "predicted_label = svm_classifier.predict([image_scaled])[0]\n",
    "\n",
    "image_to_show = image_scaled.reshape(28, 28)\n",
    "\n",
    "# Display the image along with the true and predicted labels\n",
    "plt.imshow(image_to_show, cmap='gray')\n",
    "plt.axis('off')\n",
    "plt.title(f'Predicted Label: {predicted_label}')\n",
    "plt.show()\n"
   ]
  },
  {
   "cell_type": "code",
   "execution_count": 62,
   "metadata": {},
   "outputs": [
    {
     "data": {
      "image/png": "[encoded data removed]",
      "text/plain": [
       "<Figure size 640x480 with 1 Axes>"
      ]
     },
     "metadata": {},
     "output_type": "display_data"
    }
   ],
   "source": [
    "# Plot a random number from the testing set\n",
    "\n",
    "# Extract the image and corresponding label at the random index\n",
    "new_image = X_test[0]\n",
    "\n",
    "# Use the trained SVM model to predict the label for the selected image\n",
    "predicted_label = svm_classifier.predict([new_image])[0]\n",
    "\n",
    "# Reshape the image to its original shape (28x28)\n",
    "random_image_reshaped = new_image.reshape(28, 28)\n",
    "\n",
    "# Display the image along with the true and predicted labels\n",
    "plt.imshow(random_image_reshaped, cmap='gray')\n",
    "plt.axis('off')\n",
    "plt.title(f'Predicted Label: {predicted_label}')\n",
    "plt.show()\n"
   ]
  }
 ],
 "metadata": {
  "kernelspec": {
   "display_name": "Python 3",
   "language": "python",
   "name": "python3"
  },
  "language_info": {
   "codemirror_mode": {
    "name": "ipython",
    "version": 3
   },
   "file_extension": ".py",
   "mimetype": "text/x-python",
   "name": "python",
   "nbconvert_exporter": "python",
   "pygments_lexer": "ipython3",
   "version": "3.10.12"
  }
 },
 "nbformat": 4,
 "nbformat_minor": 2
}
