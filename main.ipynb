{
 "cells": [
  {
   "cell_type": "code",
   "execution_count": 150,
   "metadata": {},
   "outputs": [],
   "source": [
    "# run command:$ jupyter nbconvert --to notebook --inplace --execute main.ipynb\n",
    "\n",
    "from sklearn.datasets import fetch_openml\n",
    "import matplotlib.pyplot as plt\n",
    "from sklearn.model_selection import train_test_split\n",
    "from sklearn.preprocessing import MinMaxScaler\n",
    "from sklearn.svm import SVC\n",
    "from sklearn.ensemble import GradientBoostingClassifier\n",
    "from sklearn.preprocessing import LabelEncoder\n",
    "import tensorflow as tf\n",
    "from tensorflow.keras import datasets, layers, models\n",
    "import matplotlib.pyplot as plt\n",
    "from PIL import Image, ImageOps\n",
    "import numpy as np"
   ]
  },
  {
   "cell_type": "code",
   "execution_count": 137,
   "metadata": {},
   "outputs": [
    {
     "name": "stdout",
     "output_type": "stream",
     "text": [
      "(Number of images, Shape of images): (70000, 784)\n",
      "(Number of labels): (70000,)\n"
     ]
    }
   ],
   "source": [
    "# define the scaler\n",
    "scaler = MinMaxScaler()\n",
    "\n",
    "# Load MNIST dataset\n",
    "mnist = fetch_openml('mnist_784')\n",
    "images = mnist['data']\n",
    "labels = mnist['target']\n",
    "\n",
    "# Normalize the data\n",
    "images_normalized = scaler.fit_transform(images)\n",
    "\n",
    "# split into training and testing sets\n",
    "X_train, X_test, y_train, y_test = train_test_split(images_normalized, labels, test_size=0.1)\n",
    "\n",
    "# Print the shape of the dataset\n",
    "print(\"(Number of images, Shape of images):\", images.shape)\n",
    "print(\"(Number of labels):\", labels.shape)"
   ]
  },
  {
   "cell_type": "code",
   "execution_count": 138,
   "metadata": {},
   "outputs": [
    {
     "name": "stdout",
     "output_type": "stream",
     "text": [
      "Accuracy of SVM classifier: 0.982\n"
     ]
    }
   ],
   "source": [
    "# Define the SVM model\n",
    "svm_classifier = SVC(kernel='rbf', C=10, gamma='scale')\n",
    "\n",
    "# train the model\n",
    "svm_classifier.fit(X_train, y_train)\n",
    "\n",
    "# Evaluate the model\n",
    "accuracy = svm_classifier.score(X_test, y_test)\n",
    "print(\"Accuracy of SVM classifier:\", accuracy)\n"
   ]
  },
  {
   "cell_type": "code",
   "execution_count": 142,
   "metadata": {},
   "outputs": [
    {
     "name": "stdout",
     "output_type": "stream",
     "text": [
      "Accuracy of SVM classifier: 0.982\n"
     ]
    }
   ],
   "source": [
    "# Define the Gradient Boosting model\n",
    "clf_gbt = GradientBoostingClassifier(\n",
    "    n_estimators=50,\n",
    "    learning_rate=0.05,\n",
    "    max_depth=2,\n",
    "    min_samples_split=5,\n",
    "    min_samples_leaf=2,\n",
    "    subsample=0.8,\n",
    "    verbose=0,\n",
    ")\n",
    "\n",
    "# train the model\n",
    "clf_gbt.fit(X_train, y_train)\n",
    "\n",
    "# Evaluate the model\n",
    "accuracy = clf_gbt.score(X_test, y_test)\n",
    "print(\"Accuracy of GBT classifier:\", accuracy)"
   ]
  },
  {
   "cell_type": "code",
   "execution_count": 167,
   "metadata": {},
   "outputs": [
    {
     "name": "stderr",
     "output_type": "stream",
     "text": [
      "/home/george/.local/lib/python3.10/site-packages/keras/src/layers/convolutional/base_conv.py:99: UserWarning: Do not pass an `input_shape`/`input_dim` argument to a layer. When using Sequential models, prefer using an `Input(shape)` object as the first layer in the model instead.\n",
      "  super().__init__(\n"
     ]
    },
    {
     "name": "stdout",
     "output_type": "stream",
     "text": [
      "\u001b[1m1969/1969\u001b[0m \u001b[32m━━━━━━━━━━━━━━━━━━━━\u001b[0m\u001b[37m\u001b[0m \u001b[1m28s\u001b[0m 13ms/step - accuracy: 0.9019 - loss: 0.3116 - val_accuracy: 0.9821 - val_loss: 0.0610\n",
      "219/219 - 1s - 4ms/step - accuracy: 0.9821 - loss: 0.0610\n",
      "Accuracy of CNN classifier: [0.0609845370054245, 0.9821428656578064]\n"
     ]
    },
    {
     "data": {
      "text/plain": [
       "<matplotlib.legend.Legend at 0x7e84ef5323b0>"
      ]
     },
     "execution_count": 167,
     "metadata": {},
     "output_type": "execute_result"
    },
    {
     "data": {
      "image/png": "[encoded data removed]",
      "text/plain": [
       "<Figure size 640x480 with 1 Axes>"
      ]
     },
     "metadata": {},
     "output_type": "display_data"
    }
   ],
   "source": [
    "# Convolutional Neural Network\n",
    "# Load MNIST dataset\n",
    "mnist = fetch_openml('mnist_784')\n",
    "images = mnist['data']\n",
    "labels = mnist['target']\n",
    "\n",
    "# split into training and testing sets\n",
    "X_train, X_test, y_train, y_test = train_test_split(images_normalized, labels, test_size=0.1)\n",
    "\n",
    "# define the Convolutional Neural Network\n",
    "model = models.Sequential()\n",
    "model.add(layers.Conv2D(32, (3, 3), activation='relu', input_shape=(28, 28, 1)))\n",
    "model.add(layers.MaxPooling2D((2, 2)))\n",
    "model.add(layers.Conv2D(64, (3, 3), activation='relu'))\n",
    "model.add(layers.MaxPooling2D((2, 2)))\n",
    "model.add(layers.Conv2D(64, (3, 3), activation='relu'))\n",
    "model.add(layers.Flatten())\n",
    "model.add(layers.Dense(64, activation='relu'))\n",
    "model.add(layers.Dense(10))\n",
    "\n",
    "# Convert labels to integer format for CNN\n",
    "label_encoder = LabelEncoder()\n",
    "y_train_encoded = label_encoder.fit_transform(y_train)\n",
    "y_test_encoded = label_encoder.transform(y_test)\n",
    "\n",
    "# Reshape data for CNN input, inputs are 28x28 gray scale\n",
    "X_train_reshaped = X_train.reshape(-1, 28, 28, 1)\n",
    "X_test_reshaped = X_test.reshape(-1, 28, 28, 1)\n",
    "\n",
    "# train the model\n",
    "model.compile(optimizer='adam',\n",
    "              loss=tf.keras.losses.SparseCategoricalCrossentropy(from_logits=True),\n",
    "              metrics=['accuracy'])\n",
    "\n",
    "history = model.fit(X_train_reshaped, y_train_encoded, epochs=4, \n",
    "                    validation_data=(X_test_reshaped, y_test_encoded))\n",
    "\n",
    "# Evaluate the model\n",
    "test_acc = model.evaluate(X_test_reshaped,  y_test_encoded, verbose=0)\n",
    "print(\"Accuracy of CNN classifier:\", test_acc)\n",
    "\n",
    "# Plot\n",
    "plt.plot(history.history['accuracy'], label='accuracy')\n",
    "plt.plot(history.history['val_accuracy'], label = 'val_accuracy')\n",
    "plt.xlabel('Epoch')\n",
    "plt.ylabel('Accuracy')\n",
    "plt.ylim([0.5, 1])\n",
    "plt.legend(loc='lower right')"
   ]
  },
  {
   "cell_type": "code",
   "execution_count": 178,
   "metadata": {},
   "outputs": [
    {
     "name": "stdout",
     "output_type": "stream",
     "text": [
      "\u001b[1m1/1\u001b[0m \u001b[32m━━━━━━━━━━━━━━━━━━━━\u001b[0m\u001b[37m\u001b[0m \u001b[1m0s\u001b[0m 24ms/step\n"
     ]
    },
    {
     "data": {
      "image/png": "[encoded data removed]",
      "text/plain": [
       "<Figure size 640x480 with 1 Axes>"
      ]
     },
     "metadata": {},
     "output_type": "display_data"
    }
   ],
   "source": [
    "# convert an image I drew to test the model with\n",
    "\n",
    "# Load the handwritten image as grayscale\n",
    "image = Image.open(\"image.png\").convert(\"L\")\n",
    "\n",
    "# Resize the image to 28x28 pixels\n",
    "image = image.resize((28, 28))\n",
    "\n",
    "# Invert the pixel values\n",
    "image = ImageOps.invert(image)\n",
    "\n",
    "# Convert the image to a numpy array\n",
    "image_array = np.array(image)\n",
    "\n",
    "# Flatten the image array\n",
    "image_flattened = image_array.flatten()\n",
    "\n",
    "# Scale the pixel values to the range [0, 1]\n",
    "# this is equivalent to using the MinMaxScaler()\n",
    "image_scaled = image_flattened / 255.0\n",
    "\n",
    "# Predict the label using the trained models\n",
    "predicted_label_svm = svm_classifier.predict([image_scaled])[0]\n",
    "predicted_label_gbt = clf_gbt.predict([image_scaled])[0]\n",
    "\n",
    "ni = image_scaled.reshape(-1, 28, 28, 1)\n",
    "l = model.predict([ni])[0]\n",
    "n1 = np.argmax(l)\n",
    "sorted_indices = np.argsort(l)[::-1]\n",
    "n2 = sorted_indices[1]\n",
    "\n",
    "# define an image that can be shown to compare to the prediction\n",
    "image_to_show = image_scaled.reshape(28, 28)\n",
    "\n",
    "# Display the image along with the predicted labels\n",
    "plt.imshow(image_to_show, cmap='gray')\n",
    "plt.axis('off')\n",
    "plt.title(f'Predicted Label using SVM: {predicted_label_svm} \\nPredicted Label using GBT: {predicted_label_gbt}\\n\\\n",
    "Predicted Label according to highest in CNN: {n1} \\n Predicted Label according to 2ed highest in CNN: {n2}')\n",
    "plt.show()\n"
   ]
  }
 ],
 "metadata": {
  "kernelspec": {
   "display_name": "Python 3",
   "language": "python",
   "name": "python3"
  },
  "language_info": {
   "codemirror_mode": {
    "name": "ipython",
    "version": 3
   },
   "file_extension": ".py",
   "mimetype": "text/x-python",
   "name": "python",
   "nbconvert_exporter": "python",
   "pygments_lexer": "ipython3",
   "version": "3.10.12"
  }
 },
 "nbformat": 4,
 "nbformat_minor": 2
}
