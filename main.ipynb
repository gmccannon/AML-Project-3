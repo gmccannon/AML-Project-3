{
 "cells": [
  {
   "cell_type": "code",
   "execution_count": 124,
   "metadata": {},
   "outputs": [
    {
     "name": "stdout",
     "output_type": "stream",
     "text": [
      "Shape of images: (70000, 784)\n",
      "Shape of labels: (70000,)\n"
     ]
    }
   ],
   "source": [
    "# run command:$ jupyter nbconvert --to notebook --inplace --execute main.ipynb\n",
    "\n",
    "from sklearn.datasets import fetch_openml\n",
    "import matplotlib.pyplot as plt\n",
    "from sklearn.model_selection import train_test_split\n",
    "from sklearn.preprocessing import MinMaxScaler\n",
    "from sklearn.svm import SVC\n",
    "from PIL import Image, ImageOps\n",
    "import numpy as np\n",
    "\n",
    "# define the scaler\n",
    "scaler = MinMaxScaler()\n",
    "\n",
    "# Load MNIST dataset\n",
    "mnist = fetch_openml('mnist_784')\n",
    "images = mnist['data']\n",
    "labels = mnist['target']\n",
    "\n",
    "# Normalize the data\n",
    "images_normalized = scaler.fit_transform(images)\n",
    "\n",
    "# split into training and testing sets\n",
    "X_train, X_test, y_train, y_test = train_test_split(images_normalized, labels, test_size=0.2, random_state=42)\n",
    "\n",
    "# Print the shape of the dataset\n",
    "print(\"(Number of images, Shape of images)\", images.shape)\n",
    "print(\"(Number of labels)\", labels.shape)\n"
   ]
  },
  {
   "cell_type": "code",
   "execution_count": 125,
   "metadata": {},
   "outputs": [],
   "source": [
    "# Define the SVM model\n",
    "svm_classifier = SVC(kernel='rbf', C=10, gamma='scale')\n",
    "\n",
    "# train the model\n",
    "svm_classifier.fit(X_train, y_train)\n",
    "\n",
    "# Evaluate the model\n",
    "accuracy = svm_classifier.score(X_test, y_test)\n",
    "print(\"Accuracy of SVM classifier:\", accuracy)\n"
   ]
  },
  {
   "cell_type": "code",
   "execution_count": 117,
   "metadata": {},
   "outputs": [
    {
     "data": {
      "image/png": "[encoded data removed]",
      "text/plain": [
       "<Figure size 640x480 with 1 Axes>"
      ]
     },
     "metadata": {},
     "output_type": "display_data"
    }
   ],
   "source": [
    "# convert an image I drew to test the model with\n",
    "\n",
    "# Load your handwritten image\n",
    "image = Image.open(\"image.png\").convert(\"L\")  # Convert to grayscale\n",
    "\n",
    "# Resize the image to 28x28 pixels\n",
    "image = image.resize((28, 28))\n",
    "\n",
    "# Invert the pixel values\n",
    "image = ImageOps.invert(image)\n",
    "\n",
    "# Convert the image to a numpy array\n",
    "image_array = np.array(image)\n",
    "\n",
    "# Flatten the image array\n",
    "image_flattened = image_array.flatten()\n",
    "\n",
    "# Scale the pixel values to the range [0, 1]\n",
    "# this is equivalent to using the MinMaxScaler()\n",
    "image_scaled = image_flattened / 255.0\n",
    "\n",
    "# Predict the label using the trained SVM model\n",
    "predicted_label = svm_classifier.predict([image_scaled])[0]\n",
    "\n",
    "# define an image that can be shown to compare to the prediction\n",
    "image_to_show = image_scaled.reshape(28, 28)\n",
    "\n",
    "# Display the image along with the true and predicted labels\n",
    "plt.imshow(image_to_show, cmap='gray')\n",
    "plt.axis('off')\n",
    "plt.title(f'Predicted Label: {predicted_label}')\n",
    "plt.show()\n"
   ]
  }
 ],
 "metadata": {
  "kernelspec": {
   "display_name": "Python 3",
   "language": "python",
   "name": "python3"
  },
  "language_info": {
   "codemirror_mode": {
    "name": "ipython",
    "version": 3
   },
   "file_extension": ".py",
   "mimetype": "text/x-python",
   "name": "python",
   "nbconvert_exporter": "python",
   "pygments_lexer": "ipython3",
   "version": "3.10.12"
  }
 },
 "nbformat": 4,
 "nbformat_minor": 2
}
